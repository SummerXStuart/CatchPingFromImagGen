{
 "cells": [
  {
   "cell_type": "code",
   "execution_count": null,
   "metadata": {},
   "outputs": [],
   "source": [
    "import requests\n",
    "\n",
    "headers={\"Content-Type\": \"application/json\",}\n",
    "\n",
    "def init(uid: str):\n",
    "    url = \"http://192.168.45.209:5001/catchping_backend/init_single_mode\"\n",
    "\n",
    "    data = {\"uid\": uid}\n",
    "\n",
    "    response = requests.post(\n",
    "        url=url,\n",
    "        json=data,\n",
    "        headers=headers\n",
    "    )\n",
    "    print(response)\n",
    "\n",
    "    return response.json()\n",
    "\n",
    "def next_hint(uid):\n",
    "    url = \"http://192.168.45.209:5001/catchping_backend/next_hint\"\n",
    "\n",
    "    data = {\"uid\": uid}\n",
    "\n",
    "    response = requests.post(\n",
    "        url=url,\n",
    "        json=data,\n",
    "        headers=headers\n",
    "    )\n",
    "\n",
    "    return response.json()\n",
    "\n",
    "def estimate(uid, estimation):\n",
    "    url = \"http://192.168.45.209:5001/catchping_backend/single_mode_quiz\"\n",
    "\n",
    "    data = {\"uid\": uid, \"estimation\": estimation}\n",
    "\n",
    "    response = requests.post(\n",
    "        url=url,\n",
    "        json=data,\n",
    "        headers=headers\n",
    "    )\n",
    "\n",
    "    return response.json()\n",
    "\n"
   ]
  }
 ],
 "metadata": {
  "language_info": {
   "name": "python"
  }
 },
 "nbformat": 4,
 "nbformat_minor": 2
}
