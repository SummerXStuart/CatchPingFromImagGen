{
 "cells": [
  {
   "cell_type": "code",
   "execution_count": 10,
   "metadata": {},
   "outputs": [],
   "source": [
    "import base64\n",
    "\n",
    "def save_base64_image(base64_str, file_path):\n",
    "    # base64 문자열을 바이트로 디코딩\n",
    "    try:\n",
    "        img_data = base64.b64decode(base64_str)\n",
    "    \n",
    "        # 디코딩된 바이트 데이터를 파일로 저장\n",
    "        with open(file_path, 'wb') as f:\n",
    "            f.write(img_data)\n",
    "        print(f\"save {file_path}\")\n",
    "    except:\n",
    "        print(\"이미지 없음\")"
   ]
  },
  {
   "cell_type": "code",
   "execution_count": 11,
   "metadata": {},
   "outputs": [],
   "source": [
    "import requests\n",
    "\n",
    "headers={\"Content-Type\": \"application/json\",}\n",
    "\n",
    "def init(ip:str, uid: str):\n",
    "    url = f\"http://{ip}:5001/catchping_backend/init_single_mode\"\n",
    "\n",
    "    data = {\"uid\": uid}\n",
    "\n",
    "    response = requests.post(\n",
    "        url=url,\n",
    "        json=data,\n",
    "        headers=headers\n",
    "    )\n",
    "    # print(response)\n",
    "\n",
    "    res = response.json()\n",
    "    imgs = res[\"hint_b64_imgs\"]\n",
    "    for i in range(len(imgs)):\n",
    "        for j in range(len(imgs[0])):\n",
    "            save_base64_image(imgs[i][j], f\"demo_files/{uid}_target_{i}_hint_{j}.png\")\n",
    "    \n",
    "    print(f\"{uid}_target_0_hint_0.png 힌트 확인\")\n",
    "    \n",
    "\n",
    "def next_hint(ip:str, uid: str):\n",
    "    url = f\"http://{ip}:5001/catchping_backend/next_hint\"\n",
    "\n",
    "    data = {\"uid\": uid}\n",
    "\n",
    "    response = requests.post(\n",
    "        url=url,\n",
    "        json=data,\n",
    "        headers=headers\n",
    "    )\n",
    "\n",
    "    res = response.json()\n",
    "    \n",
    "    # save_base64_image(res[\"hint_b64_imgs\"][-1], f\"demo_files/{uid}_target{res['current_target_index']}_hint_{res['current_hint_img_index']}.png\")\n",
    "    print(f\"{uid}_target_{res['current_target_index']}_hint_{res['current_hint_img_index']}.png 힌트 확인\")\n",
    "    return res\n",
    "\n",
    "def estimate(ip, uid, estimation):\n",
    "    url = f\"http://{ip}:5001/catchping_backend/single_mode_quiz\"\n",
    "\n",
    "    data = {\"uid\": uid, \"estimation\": estimation}\n",
    "\n",
    "    response = requests.post(\n",
    "        url=url,\n",
    "        json=data,\n",
    "        headers=headers\n",
    "    )\n",
    "\n",
    "    res = response.json()\n",
    "    if not res[\"end\"]:\n",
    "        print(f\"{uid}_target_{res['current_target_index']}_hint_{res['current_hint_img_index']}.png 힌트 확인\")\n",
    "    return res\n",
    "\n",
    "def giveup(ip, uid):\n",
    "    url = f\"http://{ip}:5001/catchping_backend/giveup\"\n",
    "\n",
    "    data = {\"uid\": uid}\n",
    "\n",
    "    response = requests.post(\n",
    "        url=url,\n",
    "        json=data,\n",
    "        headers=headers\n",
    "    )\n",
    "\n",
    "    res = response.json()\n",
    "    \n",
    "    if not res[\"end\"]:\n",
    "        # save_base64_image(res[\"hint_b64_imgs\"][-1], f\"demo_files/{uid}_target{res['current_target_index']}_hint_{res['current_hint_img_index']}.png\")\n",
    "        print(f\"{uid}_target_{res['current_target_index']}_hint_{res['current_hint_img_index']}.png 힌트 확인\")\n",
    "    \n",
    "    return res\n",
    "    \n",
    "\n"
   ]
  },
  {
   "cell_type": "code",
   "execution_count": 12,
   "metadata": {},
   "outputs": [],
   "source": [
    "def start_game(ip):\n",
    "    print(\"게임 시작\")\n",
    "    uid = input(\"user id 입력: \")\n",
    "    \n",
    "    init(ip, uid)\n",
    "    \n",
    "    while True:\n",
    "        answer = input(\"이미지를 보고 정답을 맞춰보세요\\n(1: 다음 힌트, 2: 이번 문제 포기 3: 종료)\\n정답 입력: \")\n",
    "        \n",
    "        if answer == \"1\":\n",
    "            next_hint(ip, uid)\n",
    "        elif answer == \"2\":\n",
    "            res = giveup(ip, uid)\n",
    "            print(f\"문제 포기, 정답은 {res['target']}입니다.\")\n",
    "        elif answer == \"3\":\n",
    "            print(f\"게임을 종료합니다.\")\n",
    "            break\n",
    "        else:\n",
    "            resp = estimate(ip, uid, answer)\n",
    "            target_word = resp[\"target\"]\n",
    "            if resp[\"result\"]:\n",
    "                print(f\"정답({target_word})입니다.\")\n",
    "            else:\n",
    "                print(f\"오답입니다.\")\n",
    "                \n",
    "            if resp[\"end\"]:\n",
    "                print(f\"- 게임 결과, {uid} 님의 최종 점수는 {resp['score']} 입니다.\")\n",
    "                print(f\"게임이 종료되었습니다.\")\n",
    "                break    "
   ]
  },
  {
   "cell_type": "code",
   "execution_count": 8,
   "metadata": {},
   "outputs": [],
   "source": [
    "# ip = \"10.2.237.53\"\n",
    "ip = \"192.168.45.209\""
   ]
  },
  {
   "cell_type": "code",
   "execution_count": 14,
   "metadata": {},
   "outputs": [
    {
     "name": "stdout",
     "output_type": "stream",
     "text": [
      "게임 시작\n",
      "save demo_files/stuart2257_target_0_hint_0.png\n",
      "save demo_files/stuart2257_target_0_hint_1.png\n",
      "save demo_files/stuart2257_target_0_hint_2.png\n",
      "save demo_files/stuart2257_target_1_hint_0.png\n",
      "save demo_files/stuart2257_target_1_hint_1.png\n",
      "save demo_files/stuart2257_target_1_hint_2.png\n",
      "save demo_files/stuart2257_target_2_hint_0.png\n",
      "save demo_files/stuart2257_target_2_hint_1.png\n",
      "save demo_files/stuart2257_target_2_hint_2.png\n",
      "stuart2257_target_0_hint_0.png 힌트 확인\n",
      "stuart2257_target_0_hint_0.png 힌트 확인\n",
      "오답입니다.\n",
      "stuart2257_target_0_hint_1.png 힌트 확인\n",
      "stuart2257_target_0_hint_1.png 힌트 확인\n",
      "오답입니다.\n",
      "stuart2257_target_0_hint_1.png 힌트 확인\n",
      "오답입니다.\n",
      "stuart2257_target_0_hint_2.png 힌트 확인\n",
      "오답입니다.\n",
      "stuart2257_target_1_hint_0.png 힌트 확인\n",
      "정답(짬뽕)입니다.\n",
      "stuart2257_target_1_hint_0.png 힌트 확인\n",
      "오답입니다.\n",
      "stuart2257_target_2_hint_0.png 힌트 확인\n",
      "정답(줄다리기)입니다.\n",
      "stuart2257_target_2_hint_0.png 힌트 확인\n",
      "오답입니다.\n",
      "stuart2257_target_2_hint_0.png 힌트 확인\n",
      "오답입니다.\n",
      "stuart2257_target_2_hint_1.png 힌트 확인\n",
      "오답입니다.\n"
     ]
    }
   ],
   "source": [
    "start_game(ip)"
   ]
  },
  {
   "cell_type": "code",
   "execution_count": 11,
   "metadata": {},
   "outputs": [
    {
     "name": "stdout",
     "output_type": "stream",
     "text": [
      "save demo_files/stuart2501101125_target0_hint_0.png\n"
     ]
    }
   ],
   "source": [
    "init(ip, uid)"
   ]
  },
  {
   "cell_type": "code",
   "execution_count": 12,
   "metadata": {},
   "outputs": [
    {
     "name": "stdout",
     "output_type": "stream",
     "text": [
      "save demo_files/stuart2501101125_target1_hint_0.png\n"
     ]
    }
   ],
   "source": [
    "e = estimate(ip, uid, \"하늘\")"
   ]
  },
  {
   "cell_type": "code",
   "execution_count": 13,
   "metadata": {},
   "outputs": [
    {
     "data": {
      "text/plain": [
       "dict_keys(['hint_b64_imgs', 'current_target_index', 'current_hint_img_index', 'score', 'result', 'trial', 'end'])"
      ]
     },
     "execution_count": 13,
     "metadata": {},
     "output_type": "execute_result"
    }
   ],
   "source": [
    "e.keys()"
   ]
  },
  {
   "cell_type": "code",
   "execution_count": 14,
   "metadata": {},
   "outputs": [
    {
     "data": {
      "text/plain": [
       "True"
      ]
     },
     "execution_count": 14,
     "metadata": {},
     "output_type": "execute_result"
    }
   ],
   "source": [
    "e[\"result\"]"
   ]
  },
  {
   "cell_type": "code",
   "execution_count": 15,
   "metadata": {},
   "outputs": [
    {
     "name": "stdout",
     "output_type": "stream",
     "text": [
      "save demo_files/stuart2501101125_target1_hint_0.png\n"
     ]
    },
    {
     "data": {
      "text/plain": [
       "False"
      ]
     },
     "execution_count": 15,
     "metadata": {},
     "output_type": "execute_result"
    }
   ],
   "source": [
    "e = estimate(ip, uid, \"치과\")\n",
    "e[\"result\"]"
   ]
  },
  {
   "cell_type": "code",
   "execution_count": 16,
   "metadata": {},
   "outputs": [
    {
     "name": "stdout",
     "output_type": "stream",
     "text": [
      "save demo_files/stuart2501101125_target1_hint_0.png\n"
     ]
    },
    {
     "data": {
      "text/plain": [
       "False"
      ]
     },
     "execution_count": 16,
     "metadata": {},
     "output_type": "execute_result"
    }
   ],
   "source": [
    "e = estimate(ip, uid, \"양치\")\n",
    "e[\"result\"]"
   ]
  },
  {
   "cell_type": "code",
   "execution_count": 18,
   "metadata": {},
   "outputs": [
    {
     "name": "stdout",
     "output_type": "stream",
     "text": [
      "save demo_files/stuart2501101125_target1_hint_1.png\n"
     ]
    },
    {
     "data": {
      "text/plain": [
       "False"
      ]
     },
     "execution_count": 18,
     "metadata": {},
     "output_type": "execute_result"
    }
   ],
   "source": [
    "e = estimate(ip, uid, \"건치\")\n",
    "e[\"result\"]"
   ]
  },
  {
   "cell_type": "code",
   "execution_count": null,
   "metadata": {},
   "outputs": [],
   "source": [
    "e = next_hint(ip, uid)\n",
    "e[\"result\"]"
   ]
  },
  {
   "cell_type": "code",
   "execution_count": 21,
   "metadata": {},
   "outputs": [
    {
     "name": "stdout",
     "output_type": "stream",
     "text": [
      "save demo_files/stuart2501101125_target1_hint_2.png\n"
     ]
    },
    {
     "data": {
      "text/plain": [
       "False"
      ]
     },
     "execution_count": 21,
     "metadata": {},
     "output_type": "execute_result"
    }
   ],
   "source": [
    "e = estimate(ip, uid, \"의사\")\n",
    "e[\"result\"]"
   ]
  },
  {
   "cell_type": "code",
   "execution_count": 22,
   "metadata": {},
   "outputs": [
    {
     "name": "stdout",
     "output_type": "stream",
     "text": [
      "save demo_files/stuart2501101125_target1_hint_2.png\n"
     ]
    },
    {
     "data": {
      "text/plain": [
       "False"
      ]
     },
     "execution_count": 22,
     "metadata": {},
     "output_type": "execute_result"
    }
   ],
   "source": [
    "e = estimate(ip, uid, \"치과\")\n",
    "e[\"result\"]"
   ]
  },
  {
   "cell_type": "code",
   "execution_count": 23,
   "metadata": {},
   "outputs": [
    {
     "name": "stdout",
     "output_type": "stream",
     "text": [
      "save demo_files/stuart2501101125_target2_hint_0.png\n"
     ]
    },
    {
     "data": {
      "text/plain": [
       "True"
      ]
     },
     "execution_count": 23,
     "metadata": {},
     "output_type": "execute_result"
    }
   ],
   "source": [
    "e = estimate(ip, uid, \"치과의사\")\n",
    "e[\"result\"]"
   ]
  },
  {
   "cell_type": "code",
   "execution_count": 24,
   "metadata": {},
   "outputs": [
    {
     "name": "stdout",
     "output_type": "stream",
     "text": [
      "save demo_files/stuart2501101125_target2_hint_0.png\n"
     ]
    },
    {
     "data": {
      "text/plain": [
       "False"
      ]
     },
     "execution_count": 24,
     "metadata": {},
     "output_type": "execute_result"
    }
   ],
   "source": [
    "e = estimate(ip, uid, \"여우\")\n",
    "e[\"result\"]"
   ]
  },
  {
   "cell_type": "code",
   "execution_count": 25,
   "metadata": {},
   "outputs": [
    {
     "name": "stdout",
     "output_type": "stream",
     "text": [
      "save demo_files/stuart2501101125_target2_hint_1.png\n"
     ]
    }
   ],
   "source": [
    "e = next_hint(ip, uid)\n",
    "# e[\"result\"]"
   ]
  },
  {
   "cell_type": "code",
   "execution_count": 26,
   "metadata": {},
   "outputs": [
    {
     "name": "stdout",
     "output_type": "stream",
     "text": [
      "save demo_files/stuart2501101125_target2_hint_2.png\n"
     ]
    }
   ],
   "source": [
    "e = next_hint(ip, uid)"
   ]
  },
  {
   "cell_type": "code",
   "execution_count": 6,
   "metadata": {},
   "outputs": [],
   "source": [
    "def start_game(ip):\n",
    "    print(\"게임 시작\")\n",
    "    uid = input(\"user id 입력: \")\n",
    "    \n",
    "    init(ip, uid)\n",
    "    \n",
    "    while True:\n",
    "        answer = input(\"이미지를 보고 정답을 맞춰보세요\\n(1: 다음 힌트, 2: 이번 문제 포기 3: 종료)\\n정답 입력: \")\n",
    "        \n",
    "        if answer == \"1\":\n",
    "            next_hint(ip, uid)\n",
    "        elif answer == \"2\":\n",
    "            res = giveup(ip, uid)\n",
    "            print(f\"문제 포기, 정답은 {res['target']}입니다.\")\n",
    "        elif answer == \"3\":\n",
    "            print(f\"게임을 종료합니다.\")\n",
    "            break\n",
    "        else:\n",
    "            resp = estimate(ip, uid, answer)\n",
    "            target_word = resp[\"target\"]\n",
    "            if resp[\"result\"]:\n",
    "                print(f\"정답({target_word})입니다.\")\n",
    "            else:\n",
    "                print(f\"오답입니다.\")\n",
    "                \n",
    "            if resp[\"end\"]:\n",
    "                print(f\"- 게임 결과, {uid} 님의 최종 점수는 {resp['score']} 입니다.\")\n",
    "                print(f\"게임이 종료되었습니다.\")\n",
    "                break    "
   ]
  },
  {
   "cell_type": "code",
   "execution_count": 7,
   "metadata": {},
   "outputs": [
    {
     "name": "stdout",
     "output_type": "stream",
     "text": [
      "게임 시작\n",
      "save demo_files/test1234_target0_hint_0.png\n",
      "save demo_files/test1234_target0_hint_0.png\n",
      "오답입니다.\n",
      "save demo_files/test1234_target1_hint_0.png\n",
      "정답(이순신)입니다.\n",
      "save demo_files/test1234_target1_hint_0.png\n",
      "오답입니다.\n",
      "save demo_files/test1234_target1_hint_1.png\n",
      "save demo_files/test1234_target1_hint_1.png\n",
      "오답입니다.\n",
      "save demo_files/test1234_target1_hint_1.png\n",
      "오답입니다.\n",
      "save demo_files/test1234_target2_hint_0.png\n",
      "문제 포기, 정답은 스타벅스입니다.\n",
      "save demo_files/test1234_target2_hint_0.png\n",
      "오답입니다.\n",
      "save demo_files/test1234_target2_hint_1.png\n",
      "save demo_files/test1234_target2_hint_2.png\n",
      "정답(고양이)입니다.\n",
      "- 게임 결과, test1234 님의 최종 점수는 5 입니다.\n",
      "게임이 종료되었습니다.\n"
     ]
    }
   ],
   "source": [
    "start_game(ip)"
   ]
  },
  {
   "cell_type": "code",
   "execution_count": null,
   "metadata": {},
   "outputs": [],
   "source": []
  }
 ],
 "metadata": {
  "kernelspec": {
   "display_name": "venv",
   "language": "python",
   "name": "python3"
  },
  "language_info": {
   "codemirror_mode": {
    "name": "ipython",
    "version": 3
   },
   "file_extension": ".py",
   "mimetype": "text/x-python",
   "name": "python",
   "nbconvert_exporter": "python",
   "pygments_lexer": "ipython3",
   "version": "3.9.6"
  }
 },
 "nbformat": 4,
 "nbformat_minor": 2
}
